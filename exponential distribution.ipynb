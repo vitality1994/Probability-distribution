{
 "cells": [
  {
   "cell_type": "code",
   "execution_count": 46,
   "metadata": {},
   "outputs": [
    {
     "name": "stdout",
     "output_type": "stream",
     "text": [
      "P[x<=0.0] is 0.0\n",
      "P[x<=0.1] is 0.062\n",
      "P[x<=0.2] is 0.132\n",
      "P[x<=0.3] is 0.184\n",
      "P[x<=0.4] is 0.223\n",
      "P[x<=0.5] is 0.273\n",
      "P[x<=0.6] is 0.321\n",
      "P[x<=0.7] is 0.359\n",
      "P[x<=0.8] is 0.4\n",
      "P[x<=0.9] is 0.444\n",
      "P[x<=1.0] is 0.477\n",
      "P[x<=1.1] is 0.516\n",
      "P[x<=1.2] is 0.54\n",
      "P[x<=1.3] is 0.57\n",
      "P[x<=1.4] is 0.594\n",
      "P[x<=1.5] is 0.627\n",
      "P[x<=1.6] is 0.659\n",
      "P[x<=1.7] is 0.68\n",
      "P[x<=1.8] is 0.708\n",
      "P[x<=1.9] is 0.731\n",
      "P[x<=2.0] is 0.747\n",
      "P[x<=2.1] is 0.764\n",
      "P[x<=2.2] is 0.779\n",
      "P[x<=2.3] is 0.79\n",
      "P[x<=2.4] is 0.802\n",
      "P[x<=2.5] is 0.811\n",
      "P[x<=2.6] is 0.818\n",
      "P[x<=2.7] is 0.829\n",
      "P[x<=2.8] is 0.84\n",
      "P[x<=2.9] is 0.853\n",
      "P[x<=3.0] is 0.858\n",
      "P[x<=3.1] is 0.871\n",
      "P[x<=3.2] is 0.879\n",
      "P[x<=3.3] is 0.888\n",
      "P[x<=3.4] is 0.89\n",
      "P[x<=3.5] is 0.903\n",
      "P[x<=3.6] is 0.909\n",
      "P[x<=3.7] is 0.913\n",
      "P[x<=3.8] is 0.921\n",
      "P[x<=3.9] is 0.925\n",
      "P[x<=4.0] is 0.928\n",
      "P[x<=4.1] is 0.931\n",
      "P[x<=4.2] is 0.934\n",
      "P[x<=4.3] is 0.936\n",
      "P[x<=4.4] is 0.939\n",
      "P[x<=4.5] is 0.941\n",
      "P[x<=4.6] is 0.946\n",
      "P[x<=4.7] is 0.952\n",
      "P[x<=4.8] is 0.955\n",
      "P[x<=4.9] is 0.957\n"
     ]
    }
   ],
   "source": [
    "from random import*\n",
    "import matplotlib.pyplot as plt\n",
    "import math\n",
    "list_ = []\n",
    "count = 0\n",
    "for a in range(100000):\n",
    "    u = uniform(0, 1)\n",
    "    x = (-1.5)*math.log(u)\n",
    "    list_.append(x)\n",
    "\n",
    "list_2 = []\n",
    "for b in range(50):\n",
    "    b = b/10\n",
    "    for a in range(1000):\n",
    "        if list_[a] < b:\n",
    "            count += 1;\n",
    "    count = count / 1000\n",
    "    print(\"P[x<={}] is {}\".format(b ,count))\n",
    "    list_2.append(count)\n",
    "    count = 0"
   ]
  },
  {
   "cell_type": "code",
   "execution_count": 47,
   "metadata": {},
   "outputs": [
    {
     "data": {
      "text/plain": [
       "[<matplotlib.lines.Line2D at 0x21bb7d8f788>]"
      ]
     },
     "execution_count": 47,
     "metadata": {},
     "output_type": "execute_result"
    },
    {
     "data": {
      "image/png": "[encoded data removed]",
      "text/plain": [
       "<Figure size 432x288 with 1 Axes>"
      ]
     },
     "metadata": {
      "needs_background": "light"
     },
     "output_type": "display_data"
    }
   ],
   "source": [
    "plt.plot(list_2)"
   ]
  },
  {
   "cell_type": "code",
   "execution_count": 48,
   "metadata": {
    "scrolled": false
   },
   "outputs": [
    {
     "data": {
      "text/plain": [
       "[0.0696,\n",
       " 0.059,\n",
       " 0.0554,\n",
       " 0.0492,\n",
       " 0.048,\n",
       " 0.0446,\n",
       " 0.0396,\n",
       " 0.0438,\n",
       " 0.0372,\n",
       " 0.037,\n",
       " 0.038,\n",
       " 0.0304,\n",
       " 0.0332,\n",
       " 0.0256,\n",
       " 0.025,\n",
       " 0.0262,\n",
       " 0.0224,\n",
       " 0.0232,\n",
       " 0.02,\n",
       " 0.0148,\n",
       " 0.0182,\n",
       " 0.0146,\n",
       " 0.016,\n",
       " 0.0148,\n",
       " 0.014,\n",
       " 0.0084,\n",
       " 0.0116,\n",
       " 0.01,\n",
       " 0.0118,\n",
       " 0.0088,\n",
       " 0.0088,\n",
       " 0.0076,\n",
       " 0.0072,\n",
       " 0.0076,\n",
       " 0.0072,\n",
       " 0.0064,\n",
       " 0.0056,\n",
       " 0.0056,\n",
       " 0.0056,\n",
       " 0.0032,\n",
       " 0.0038,\n",
       " 0.0044,\n",
       " 0.0052,\n",
       " 0.0034,\n",
       " 0.004,\n",
       " 0.0024,\n",
       " 0.0032,\n",
       " 0.0022,\n",
       " 0.0022,\n",
       " 0.0028]"
      ]
     },
     "execution_count": 48,
     "metadata": {},
     "output_type": "execute_result"
    }
   ],
   "source": [
    "list_3 = []\n",
    "for b in range(50):\n",
    "    b = b/10\n",
    "    for a in range(5000):\n",
    "        if b <list_[a] < b+(1/10):\n",
    "            count += 1\n",
    "    count = count / 5000\n",
    "    #print(\"P[x<={}] is {}\".format(b ,count))\n",
    "    list_3.append(count)\n",
    "    count = 0\n",
    "    \n",
    "list_3"
   ]
  },
  {
   "cell_type": "code",
   "execution_count": 49,
   "metadata": {},
   "outputs": [
    {
     "data": {
      "text/plain": [
       "[<matplotlib.lines.Line2D at 0x21bbccb2648>]"
      ]
     },
     "execution_count": 49,
     "metadata": {},
     "output_type": "execute_result"
    },
    {
     "data": {
      "image/png": "[encoded data removed]",
      "text/plain": [
       "<Figure size 432x288 with 1 Axes>"
      ]
     },
     "metadata": {
      "needs_background": "light"
     },
     "output_type": "display_data"
    }
   ],
   "source": [
    "plt.plot(list_3)"
   ]
  }
 ],
 "metadata": {
  "kernelspec": {
   "display_name": "Python 3",
   "language": "python",
   "name": "python3"
  },
  "language_info": {
   "codemirror_mode": {
    "name": "ipython",
    "version": 3
   },
   "file_extension": ".py",
   "mimetype": "text/x-python",
   "name": "python",
   "nbconvert_exporter": "python",
   "pygments_lexer": "ipython3",
   "version": "3.7.4"
  }
 },
 "nbformat": 4,
 "nbformat_minor": 2
}
